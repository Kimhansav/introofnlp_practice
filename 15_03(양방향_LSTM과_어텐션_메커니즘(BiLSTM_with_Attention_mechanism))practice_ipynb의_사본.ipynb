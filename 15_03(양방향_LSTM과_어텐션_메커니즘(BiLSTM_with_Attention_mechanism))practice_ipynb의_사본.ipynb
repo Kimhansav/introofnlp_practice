{
  "nbformat": 4,
  "nbformat_minor": 0,
  "metadata": {
    "colab": {
      "provenance": [],
      "gpuType": "T4",
      "include_colab_link": true
    },
    "kernelspec": {
      "name": "python3",
      "display_name": "Python 3"
    },
    "language_info": {
      "name": "python"
    },
    "accelerator": "GPU"
  },
  "cells": [
    {
      "cell_type": "markdown",
      "metadata": {
        "id": "view-in-github",
        "colab_type": "text"
      },
      "source": [
        "<a href=\"https://colab.research.google.com/github/Kimhansav/introofnlp_practice/blob/main/15_03(%EC%96%91%EB%B0%A9%ED%96%A5_LSTM%EA%B3%BC_%EC%96%B4%ED%85%90%EC%85%98_%EB%A9%94%EC%BB%A4%EB%8B%88%EC%A6%98(BiLSTM_with_Attention_mechanism))practice_ipynb%EC%9D%98_%EC%82%AC%EB%B3%B8.ipynb\" target=\"_parent\"><img src=\"https://colab.research.google.com/assets/colab-badge.svg\" alt=\"Open In Colab\"/></a>"
      ]
    },
    {
      "cell_type": "markdown",
      "source": [
        "1. IMDB 리뷰 데이터 전처리하기"
      ],
      "metadata": {
        "id": "g0BEWwZx9xSy"
      }
    },
    {
      "cell_type": "code",
      "execution_count": null,
      "metadata": {
        "id": "ijd0E_qrp6_c"
      },
      "outputs": [],
      "source": [
        "from tensorflow.keras.datasets import imdb\n",
        "from tensorflow.keras.utils import to_categorical\n",
        "from tensorflow.keras.preprocessing.sequence import pad_sequences"
      ]
    },
    {
      "cell_type": "code",
      "source": [
        "vocab_size = 10000\n",
        "(X_train, y_train), (X_test, y_test) = imdb.load_data(num_words = vocab_size)"
      ],
      "metadata": {
        "colab": {
          "base_uri": "https://localhost:8080/"
        },
        "id": "KnzpIXtL-Rox",
        "outputId": "4fde8fb6-cdad-412c-dd8e-4047ca43ce67"
      },
      "execution_count": null,
      "outputs": [
        {
          "output_type": "stream",
          "name": "stdout",
          "text": [
            "Downloading data from https://storage.googleapis.com/tensorflow/tf-keras-datasets/imdb.npz\n",
            "17464789/17464789 [==============================] - 0s 0us/step\n"
          ]
        }
      ]
    },
    {
      "cell_type": "code",
      "source": [
        "print('리뷰의 최대 길이 : {}'.format(max(len(l) for l in X_train)))\n",
        "print('리뷰의 평균 길이 : {}'.format(sum(map(len, X_train)) / len(X_train)))"
      ],
      "metadata": {
        "colab": {
          "base_uri": "https://localhost:8080/"
        },
        "id": "I6ClQGiV-Zpa",
        "outputId": "dce74ff1-64c7-40fa-c9ba-8bc4203ce99a"
      },
      "execution_count": null,
      "outputs": [
        {
          "output_type": "stream",
          "name": "stdout",
          "text": [
            "리뷰의 최대 길이 : 2494\n",
            "리뷰의 평균 길이 : 238.71364\n"
          ]
        }
      ]
    },
    {
      "cell_type": "code",
      "source": [
        "max_len = 500\n",
        "X_train = pad_sequences(X_train, maxlen = max_len)\n",
        "X_test = pad_sequences(X_test, maxlen = max_len)"
      ],
      "metadata": {
        "id": "zqzAzeoS-uCK"
      },
      "execution_count": null,
      "outputs": []
    },
    {
      "cell_type": "markdown",
      "source": [
        "텍스트 분류에서 어텐션을 사용하는 이유 : RNN의 마지막 은닉상태로 예측을 하는데 층을 지나오며 정보를 손실한 상태이므로 지나온 은닉상태를 다시 한번 참조하겠다는 의도"
      ],
      "metadata": {
        "id": "yY-8ssxR_Lu1"
      }
    },
    {
      "cell_type": "code",
      "source": [
        "import tensorflow as tf"
      ],
      "metadata": {
        "id": "1vzI65YF-7aG"
      },
      "execution_count": null,
      "outputs": []
    },
    {
      "cell_type": "code",
      "source": [
        "class BahdanauAttention(tf.keras.Model):\n",
        "  def __init__(self, units):\n",
        "    super(BahdanauAttention, self).__init__()\n",
        "    self.W1 = Dense(units)\n",
        "    self.W2 = Dense(units)\n",
        "    self.V = Dense(1)\n",
        "\n",
        "  def call(self, values, query): #단, key와 value는 같음\n",
        "    #query shape == (batch size, hidden size)\n",
        "    #hidden_with_time_axis shape == (batch_size, 1, hidden size)\n",
        "    #score 계산을 위해 뒤에서 할 덧셈을 위해서 차원을 변경해줍니다\n",
        "    hidden_with_time_axis = tf.expand_dims(query, 1)\n",
        "\n",
        "    #score shape == (batch_size, max_length, 1)\n",
        "    #we get 1 at the last axis because we are applying score to self.V\n",
        "    #the shape of the tensor before applying self.V is (batch_size, max_length, units)\n",
        "    score = self.V(tf.nn.tanh(\n",
        "        self.W1(values) + self.W2(hidden_with_time_axis)))\n",
        "\n",
        "    #attention_weights shape == (batch_size, max_length, 1)\n",
        "    attention_weights = tf.nn.softmax(score, axis = 1)\n",
        "\n",
        "    #context_vector shape after sum == (batch_size, hidden_size)\n",
        "    context_vector = attention_weights * values\n",
        "    context_vector = tf.reduce_sum(context_vector, axis = 1)\n",
        "\n",
        "    return context_vector, attention_weights"
      ],
      "metadata": {
        "id": "tigCk8aB_I5h"
      },
      "execution_count": null,
      "outputs": []
    },
    {
      "cell_type": "code",
      "source": [
        "from tensorflow.keras.layers import Dense, Embedding, Bidirectional, LSTM, Concatenate, Dropout\n",
        "from tensorflow.keras import Input, Model\n",
        "from tensorflow.keras import optimizers\n",
        "import os"
      ],
      "metadata": {
        "id": "BPXRYwkzHYEM"
      },
      "execution_count": null,
      "outputs": []
    },
    {
      "cell_type": "code",
      "source": [
        "sequence_input = Input(shape = (max_len,), dtype = 'int32')\n",
        "embedded_sequences = Embedding(vocab_size, 128, input_length = max_len, mask_zero = True)(sequence_input)"
      ],
      "metadata": {
        "id": "7MiK352WHZ1W"
      },
      "execution_count": null,
      "outputs": []
    },
    {
      "cell_type": "code",
      "source": [
        "lstm = Bidirectional(LSTM(64, dropout = 0.5, return_sequences = True))(embedded_sequences)"
      ],
      "metadata": {
        "id": "EKQ-V2eqH4aD"
      },
      "execution_count": null,
      "outputs": []
    },
    {
      "cell_type": "code",
      "source": [
        "lstm, forward_h, forward_c, backward_h, backward_c = Bidirectional(LSTM(64, dropout = 0.5, return_sequences = True, return_state = True))(lstm)"
      ],
      "metadata": {
        "id": "dHSzXBx3IBCV"
      },
      "execution_count": null,
      "outputs": []
    },
    {
      "cell_type": "code",
      "source": [
        "print(lstm.shape, forward_h.shape, forward_c.shape, backward_h.shape, backward_c.shape)"
      ],
      "metadata": {
        "colab": {
          "base_uri": "https://localhost:8080/"
        },
        "id": "7NZjmgnSIQ5I",
        "outputId": "af748569-cc93-484f-c23c-d6aba5ce0e66"
      },
      "execution_count": null,
      "outputs": [
        {
          "output_type": "stream",
          "name": "stdout",
          "text": [
            "(None, 500, 128) (None, 64) (None, 64) (None, 64) (None, 64)\n"
          ]
        }
      ]
    },
    {
      "cell_type": "code",
      "source": [
        "state_h = Concatenate()([forward_h, backward_h]) #은닉 상태\n",
        "state_c = Concatenate()([forward_c, backward_c]) #셀 상태"
      ],
      "metadata": {
        "id": "M1hontvfIa47"
      },
      "execution_count": null,
      "outputs": []
    },
    {
      "cell_type": "code",
      "source": [
        "attention = BahdanauAttention(64) #가중치 크기 정의\n",
        "context_vector, attention_weights = attention(lstm, state_h) #왜 attention.call() 대신 attention()이라고 하지? -> 텐서플로에서 인스턴스 호출시 알아서 call함수 호출하도록 설계해둠.\n",
        "print(context_vector, attention_weights)"
      ],
      "metadata": {
        "colab": {
          "base_uri": "https://localhost:8080/"
        },
        "id": "SqKIggDCJ55V",
        "outputId": "339af4db-cb45-45dd-8ecb-9937bbe69e5c"
      },
      "execution_count": null,
      "outputs": [
        {
          "output_type": "stream",
          "name": "stdout",
          "text": [
            "KerasTensor(type_spec=TensorSpec(shape=(None, 128), dtype=tf.float32, name=None), name='bahdanau_attention/Sum:0', description=\"created by layer 'bahdanau_attention'\") KerasTensor(type_spec=TensorSpec(shape=(None, 500, 1), dtype=tf.float32, name=None), name='bahdanau_attention/transpose_1:0', description=\"created by layer 'bahdanau_attention'\")\n"
          ]
        }
      ]
    },
    {
      "cell_type": "code",
      "source": [
        "dense1 = Dense(20, activation = \"relu\")(context_vector)\n",
        "dropout = Dropout(0.5)(dense1)\n",
        "output = Dense(1, activation = \"sigmoid\")(dropout)\n",
        "model = Model(inputs = sequence_input, outputs = output)"
      ],
      "metadata": {
        "id": "7kgIykGlK_iK"
      },
      "execution_count": null,
      "outputs": []
    },
    {
      "cell_type": "code",
      "source": [
        "model.compile(loss = 'binary_crossentropy', optimizer = 'adam', metrics = ['accuracy'])"
      ],
      "metadata": {
        "id": "mvQxk5rUL_vu"
      },
      "execution_count": null,
      "outputs": []
    },
    {
      "cell_type": "code",
      "source": [
        "history = model.fit(X_train, y_train, epochs = 3, batch_size = 256, validation_data = (X_test, y_test), verbose = 1)"
      ],
      "metadata": {
        "colab": {
          "base_uri": "https://localhost:8080/"
        },
        "id": "hpJPWLDIMGiT",
        "outputId": "cdf16b0b-6356-4844-e932-31830123e807"
      },
      "execution_count": null,
      "outputs": [
        {
          "output_type": "stream",
          "name": "stdout",
          "text": [
            "Epoch 1/3\n",
            "98/98 [==============================] - 478s 5s/step - loss: 0.4879 - accuracy: 0.7550 - val_loss: 0.2890 - val_accuracy: 0.8796\n",
            "Epoch 2/3\n",
            "98/98 [==============================] - 475s 5s/step - loss: 0.2401 - accuracy: 0.9117 - val_loss: 0.3038 - val_accuracy: 0.8748\n",
            "Epoch 3/3\n",
            "98/98 [==============================] - 463s 5s/step - loss: 0.1918 - accuracy: 0.9344 - val_loss: 0.3084 - val_accuracy: 0.8806\n"
          ]
        }
      ]
    },
    {
      "cell_type": "code",
      "source": [
        "print(\"\\n 테스트 정확도 : %.4f\" % (model.evaluate(X_test, y_test)[1]))"
      ],
      "metadata": {
        "colab": {
          "base_uri": "https://localhost:8080/"
        },
        "id": "KHIzcNAmMQeI",
        "outputId": "cd4806e5-244c-4737-e6c8-c38013372502"
      },
      "execution_count": null,
      "outputs": [
        {
          "output_type": "stream",
          "name": "stdout",
          "text": [
            "782/782 [==============================] - 340s 435ms/step - loss: 0.3084 - accuracy: 0.8806\n",
            "\n",
            " 테스트 정확도 : 0.8806\n"
          ]
        }
      ]
    },
    {
      "cell_type": "code",
      "source": [],
      "metadata": {
        "id": "UVuXUHq2MW4y"
      },
      "execution_count": null,
      "outputs": []
    }
  ]
}